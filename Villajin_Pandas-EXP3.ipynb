{
 "cells": [
  {
   "cell_type": "markdown",
   "id": "991005ea-509e-41bf-a477-52a353b2e09e",
   "metadata": {},
   "source": [
    "## ECE2112: Experiment 3"
   ]
  },
  {
   "cell_type": "markdown",
   "id": "48bb2367-8936-4f8d-a6f3-ce2753f6366c",
   "metadata": {},
   "source": [
    "This notebook contains Python code developed for the Experiment 3 in ECE2112, focusing on Python Data Analysis.\n",
    "\n",
    "**Submitted by:** Aaron Chastine V. Villajin\n",
    "    "
   ]
  },
  {
   "cell_type": "markdown",
   "id": "90e7081e-0d8d-4386-a6fe-a942b9149a05",
   "metadata": {},
   "source": [
    "***"
   ]
  },
  {
   "cell_type": "markdown",
   "id": "5d08c64d-721f-4230-be18-5ddeba16f085",
   "metadata": {},
   "source": [
    "#### Objectives of this Experiment"
   ]
  },
  {
   "cell_type": "markdown",
   "id": "60140e77-acac-42ad-ba6e-77243b55a450",
   "metadata": {},
   "source": [
    "> To identify the codes and functions incorporated in the Pandas library."
   ]
  },
  {
   "cell_type": "markdown",
   "id": "cde2b8ec-18c7-4117-9c6c-dda61d1aea2e",
   "metadata": {},
   "source": [
    "> To be able to apply and use the different codes and functions in creating a Python program using a\n",
    "Pandas library."
   ]
  },
  {
   "cell_type": "markdown",
   "id": "08163154-dc5e-4596-a1eb-83fb02c0d2d9",
   "metadata": {},
   "source": [
    "***"
   ]
  },
  {
   "cell_type": "markdown",
   "id": "25513a5c-a098-4f76-89b4-16a148049ccd",
   "metadata": {},
   "source": [
    "**Problem 1:** *Save your file as Surname_Pandas-P1.py*"
   ]
  },
  {
   "cell_type": "markdown",
   "id": "32817433-0fb7-4aed-953d-dbc34af6bafe",
   "metadata": {},
   "source": [
    "*Apply the knowledge obtained from the experiment and demonstrations in solving this problem.*"
   ]
  },
  {
   "cell_type": "markdown",
   "id": "f385acd2-e20c-4f54-b3c7-103a8cc636c9",
   "metadata": {},
   "source": [
    "**Script:**"
   ]
  },
  {
   "cell_type": "code",
   "execution_count": 12,
   "id": "4a329ff5-fc3d-4c8e-a19b-affd43b6aa64",
   "metadata": {},
   "outputs": [],
   "source": [
    "# Declare panda data analysis library\n",
    "import pandas as pd"
   ]
  },
  {
   "cell_type": "markdown",
   "id": "ed9fa519-2710-4aac-bdc8-b1c2ff84febc",
   "metadata": {},
   "source": [
    "> Load the corresponding .csv file into a data frame named cars using pandas"
   ]
  },
  {
   "cell_type": "code",
   "execution_count": 13,
   "id": "f5b8f2c4-de32-4267-b2b8-1aaee0f71fb5",
   "metadata": {},
   "outputs": [],
   "source": [
    "# Load the corresponding .csv file into a data frame named cars using pandas\n",
    "cars = pd.read_csv('cars.csv')"
   ]
  },
  {
   "cell_type": "markdown",
   "id": "dae9d420-0d68-4f9a-83c5-35ce7d4957d9",
   "metadata": {},
   "source": [
    "*We use the read_csv function from pandas to load the cars.csv file into a data frame named cars.*"
   ]
  },
  {
   "cell_type": "markdown",
   "id": "d4e906d1-19bd-4be3-9bd7-e40a6276562e",
   "metadata": {},
   "source": [
    "> Display the first five and last five rows of the resulting cars."
   ]
  },
  {
   "cell_type": "code",
   "execution_count": 14,
   "id": "028ef1a4-bef3-4e4e-87d1-923b44385b7c",
   "metadata": {},
   "outputs": [
    {
     "name": "stdout",
     "output_type": "stream",
     "text": [
      "First five rows of the cars data frame:\n",
      "               Model   mpg  cyl   disp   hp  drat     wt   qsec  vs  am  gear  \\\n",
      "0          Mazda RX4  21.0    6  160.0  110  3.90  2.620  16.46   0   1     4   \n",
      "1      Mazda RX4 Wag  21.0    6  160.0  110  3.90  2.875  17.02   0   1     4   \n",
      "2         Datsun 710  22.8    4  108.0   93  3.85  2.320  18.61   1   1     4   \n",
      "3     Hornet 4 Drive  21.4    6  258.0  110  3.08  3.215  19.44   1   0     3   \n",
      "4  Hornet Sportabout  18.7    8  360.0  175  3.15  3.440  17.02   0   0     3   \n",
      "\n",
      "   carb  \n",
      "0     4  \n",
      "1     4  \n",
      "2     1  \n",
      "3     1  \n",
      "4     2  \n"
     ]
    }
   ],
   "source": [
    "# Display the first five rows of the resulting cars\n",
    "print(\"First five rows of the cars data frame:\")\n",
    "print(cars.head())"
   ]
  },
  {
   "cell_type": "markdown",
   "id": "034c6672-640f-45b2-89d0-ff0e44096d79",
   "metadata": {},
   "source": [
    "*We use the head method to display the first five rows of the cars data frame.*"
   ]
  },
  {
   "cell_type": "code",
   "execution_count": 15,
   "id": "fc8056a5-0c92-461a-9a84-4bc5a023db51",
   "metadata": {},
   "outputs": [
    {
     "name": "stdout",
     "output_type": "stream",
     "text": [
      "\n",
      "Last five rows of the cars data frame:\n",
      "             Model   mpg  cyl   disp   hp  drat     wt  qsec  vs  am  gear  \\\n",
      "27    Lotus Europa  30.4    4   95.1  113  3.77  1.513  16.9   1   1     5   \n",
      "28  Ford Pantera L  15.8    8  351.0  264  4.22  3.170  14.5   0   1     5   \n",
      "29    Ferrari Dino  19.7    6  145.0  175  3.62  2.770  15.5   0   1     5   \n",
      "30   Maserati Bora  15.0    8  301.0  335  3.54  3.570  14.6   0   1     5   \n",
      "31      Volvo 142E  21.4    4  121.0  109  4.11  2.780  18.6   1   1     4   \n",
      "\n",
      "    carb  \n",
      "27     2  \n",
      "28     4  \n",
      "29     6  \n",
      "30     8  \n",
      "31     2  \n"
     ]
    }
   ],
   "source": [
    "# Display the last five rows of the resulting cars\n",
    "print(\"\\nLast five rows of the cars data frame:\")\n",
    "print(cars.tail())"
   ]
  },
  {
   "cell_type": "markdown",
   "id": "314b65c3-d54c-4dc5-989f-81563aec2977",
   "metadata": {},
   "source": [
    "*We use the tail method to display the last five rows of the cars data frame.*"
   ]
  },
  {
   "cell_type": "markdown",
   "id": "df3ff04f-5840-419f-8f18-9f9375d2dfe4",
   "metadata": {},
   "source": [
    "***"
   ]
  },
  {
   "cell_type": "markdown",
   "id": "3ad1e0a1-487e-4944-a308-14737c7c8736",
   "metadata": {},
   "source": [
    "#### Discussion"
   ]
  },
  {
   "cell_type": "markdown",
   "id": "2afb70f3-7953-400e-b6a0-211fe24d8afb",
   "metadata": {},
   "source": [
    "**Approach:** The approach used to solve the problem involves three key steps. Firstly, the necessary library, pandas, is imported to enable working with CSV files and data frames. Secondly, the read_csv function is utilized to load the cars.csv file into a data frame named cars. Finally, the head and tail methods are employed to display the first five and last five rows of the cars data frame, respectively."
   ]
  },
  {
   "cell_type": "markdown",
   "id": "1854cce5-076d-46ef-87f8-83caacdc50c5",
   "metadata": {},
   "source": [
    "**Functionality:** The approach is useful because it efficiently loads data into a flexible data structure, allows for quick data inspection, and sets the stage for further analysis and manipulation."
   ]
  },
  {
   "cell_type": "markdown",
   "id": "ba296627-2251-481b-b3b6-f2a31ee1d6f4",
   "metadata": {},
   "source": [
    "***"
   ]
  },
  {
   "cell_type": "markdown",
   "id": "ed0a03b4-8a5a-425b-a054-4fa022ba2344",
   "metadata": {},
   "source": [
    "**Problem 2:** *Save your file as Surname_Pandas-P2.py*"
   ]
  },
  {
   "cell_type": "markdown",
   "id": "be03d953-d54d-4923-a84a-3d627df595a4",
   "metadata": {},
   "source": [
    "*Using the dataframe cars in problem 1, extract the following information using subsetting, slicing and\n",
    "indexing operations:*"
   ]
  },
  {
   "cell_type": "markdown",
   "id": "3a5219c6-fa55-4432-a4fa-b9fdcb027e4b",
   "metadata": {},
   "source": [
    "**Script:**"
   ]
  },
  {
   "cell_type": "markdown",
   "id": "8e446343-62b9-4b27-a9ee-5dfe59df572b",
   "metadata": {},
   "source": [
    "> Display the first five rows with odd-numbered columns (columns 1, 3, 5, 7…) of cars."
   ]
  },
  {
   "cell_type": "code",
   "execution_count": 56,
   "id": "7773f842-161c-4411-a684-96c5724a6a01",
   "metadata": {},
   "outputs": [
    {
     "name": "stdout",
     "output_type": "stream",
     "text": [
      "    mpg   disp  drat   qsec  am  carb\n",
      "0  21.0  160.0  3.90  16.46   1     4\n",
      "1  21.0  160.0  3.90  17.02   1     4\n",
      "2  22.8  108.0  3.85  18.61   1     1\n",
      "3  21.4  258.0  3.08  19.44   0     1\n",
      "4  18.7  360.0  3.15  17.02   0     2\n"
     ]
    }
   ],
   "source": [
    "print(cars.iloc[:, 1::2].head(5))"
   ]
  },
  {
   "cell_type": "markdown",
   "id": "3e4eebd5-e6ee-419b-b1d0-78b00cb37108",
   "metadata": {},
   "source": [
    "*To achieve this, we can use slicing and indexing operations. Assuming the column indices start from 0, we can select the odd-numbered columns using iloc and then select the first five rows using slicing.*"
   ]
  },
  {
   "cell_type": "markdown",
   "id": "29ccb1d6-e697-4ff7-8ff4-deefa8f9d018",
   "metadata": {},
   "source": [
    "> Display the row that contains the ‘Model’ of ‘Mazda RX4’"
   ]
  },
  {
   "cell_type": "code",
   "execution_count": 59,
   "id": "c173d6c2-850b-434e-9ed9-32ab2844ed94",
   "metadata": {},
   "outputs": [
    {
     "name": "stdout",
     "output_type": "stream",
     "text": [
      "       Model   mpg  cyl   disp   hp  drat    wt   qsec  vs  am  gear  carb\n",
      "0  Mazda RX4  21.0    6  160.0  110   3.9  2.62  16.46   0   1     4     4\n"
     ]
    }
   ],
   "source": [
    "print(cars[cars['Model'] == 'Mazda RX4'])"
   ]
  },
  {
   "cell_type": "markdown",
   "id": "61c30bd1-a912-4df8-a0ab-dabc621d4925",
   "metadata": {},
   "source": [
    "*We can use boolean indexing to select the row where the 'Model' column is 'Mazda RX4'.*"
   ]
  },
  {
   "cell_type": "markdown",
   "id": "5169e9f9-daaf-4465-9cfc-deb4e5248998",
   "metadata": {},
   "source": [
    "> How many cylinders (‘cyl’) does the car model ‘Camaro Z28’ have?"
   ]
  },
  {
   "cell_type": "code",
   "execution_count": 62,
   "id": "680d3a5e-5738-476c-92f1-0ca59a292517",
   "metadata": {},
   "outputs": [
    {
     "name": "stdout",
     "output_type": "stream",
     "text": [
      "8\n"
     ]
    }
   ],
   "source": [
    "print(cars.loc[cars['Model'] == 'Camaro Z28', 'cyl'].values[0])"
   ]
  },
  {
   "cell_type": "markdown",
   "id": "d2c2505f-0fb4-44ab-9331-ed4ef2247ffa",
   "metadata": {},
   "source": [
    "*Similar to the previous question, we can use boolean indexing to select the row where the 'Model' column is 'Camaro Z28' and then access the 'cyl' column.*"
   ]
  },
  {
   "cell_type": "markdown",
   "id": "9ae7337a-5d79-453f-9d87-926ec8affaef",
   "metadata": {},
   "source": [
    "> Determine how many cylinders (‘cyl’) and what gear type (‘gear’) do the car models ‘Mazda RX4\r\n",
    "Wag’, ‘Ford Pantera L’ and ‘Honda Civic’ have."
   ]
  },
  {
   "cell_type": "code",
   "execution_count": 65,
   "id": "c5a835f1-3255-475d-86f4-923928a2283f",
   "metadata": {},
   "outputs": [
    {
     "name": "stdout",
     "output_type": "stream",
     "text": [
      "    cyl  gear\n",
      "1     6     4\n",
      "18    4     4\n",
      "28    8     5\n"
     ]
    }
   ],
   "source": [
    "models = ['Mazda RX4 Wag', 'Ford Pantera L', 'Honda Civic']\n",
    "print(cars.loc[cars['Model'].isin(models), ['cyl', 'gear']])"
   ]
  },
  {
   "cell_type": "markdown",
   "id": "a9906c20-548d-490f-81a3-ed6817d37add",
   "metadata": {},
   "source": [
    "*We can use boolean indexing to select the rows where the 'Model' column is in the list of desired models, and then access the 'cyl' and 'gear' columns.*"
   ]
  },
  {
   "cell_type": "markdown",
   "id": "80718dd2-675b-427d-9414-3d8d2390e310",
   "metadata": {},
   "source": [
    "***"
   ]
  },
  {
   "cell_type": "markdown",
   "id": "e77ba9d9-3f9e-45f9-95bf-6b77d54f3781",
   "metadata": {},
   "source": [
    "#### Discussion"
   ]
  },
  {
   "cell_type": "markdown",
   "id": "a630ae87-2231-4fd0-83f2-8e051cb6c657",
   "metadata": {},
   "source": [
    "**Approach:** To extract specific data from a Pandas dataframe, one can employ various subsetting, slicing, and indexing operations. Slicing allows one to select specific rows and columns using iloc or loc. Boolean indexing enables one to filter rows based on conditions, and the isin method allows one to select rows where a column is in a list of desired values. These operations can be combined to efficiently extract the required information from the dataframe."
   ]
  },
  {
   "cell_type": "markdown",
   "id": "8d515b57-9ac2-4f5f-9bb0-ca56e7396db2",
   "metadata": {},
   "source": [
    "**Functionality:** This approach is useful because it allows for efficient and flexible data extraction from Pandas dataframes. By combining subsetting, slicing, and indexing operations, users can quickly and precisely retrieve specific data, filter out unwanted information, and manipulate their data to meet their analysis needs"
   ]
  }
 ],
 "metadata": {
  "kernelspec": {
   "display_name": "Python 3 (ipykernel)",
   "language": "python",
   "name": "python3"
  },
  "language_info": {
   "codemirror_mode": {
    "name": "ipython",
    "version": 3
   },
   "file_extension": ".py",
   "mimetype": "text/x-python",
   "name": "python",
   "nbconvert_exporter": "python",
   "pygments_lexer": "ipython3",
   "version": "3.12.4"
  }
 },
 "nbformat": 4,
 "nbformat_minor": 5
}
